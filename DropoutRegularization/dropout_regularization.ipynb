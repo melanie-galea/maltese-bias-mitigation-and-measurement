{
  "cells": [
    {
      "cell_type": "code",
      "source": [
        "import pandas as pd\n",
        "from datasets import Dataset\n",
        "from transformers import AutoTokenizer, AutoModelForMaskedLM, Trainer, TrainingArguments, DataCollatorForLanguageModeling\n",
        "\n",
        "# Load the CSV file\n",
        "data = pd.read_csv('wiki_cda.csv', nrows=4000)\n",
        "\n",
        "# Select only the 'sent' column\n",
        "data = data[['sent']]\n",
        "\n",
        "# Convert the DataFrame to a Dataset\n",
        "dataset = Dataset.from_pandas(data)\n",
        "\n",
        "# Initialize the tokenizer for mBERT\n",
        "tokenizer = AutoTokenizer.from_pretrained('bert-base-multilingual-uncased')\n",
        "\n",
        "# Load pre-trained mBERT model for Masked Language Modeling\n",
        "model = AutoModelForMaskedLM.from_pretrained(\n",
        "    'bert-base-multilingual-cased',\n",
        "    hidden_dropout_prob=0.2,\n",
        "    attention_probs_dropout_prob=0.1\n",
        ")\n",
        "\n",
        "# Tokenize the dataset\n",
        "def tokenize_function(examples):\n",
        "    return tokenizer(examples['sent'], padding='max_length', truncation=True, max_length=256)\n",
        "\n",
        "# Apply the tokenization function to the dataset\n",
        "tokenized_dataset = dataset.map(tokenize_function, batched=True)\n",
        "\n",
        "# Data collator for MLM\n",
        "data_collator = DataCollatorForLanguageModeling(tokenizer=tokenizer, mlm=True, mlm_probability=0.15)\n",
        "\n",
        "# Define training arguments\n",
        "training_args = TrainingArguments(\n",
        "    output_dir='./results',\n",
        "    evaluation_strategy='steps',\n",
        "    eval_steps=50,\n",
        "    learning_rate=2e-5,\n",
        "    per_device_train_batch_size=2,\n",
        "    per_device_eval_batch_size=4,\n",
        "    max_steps=50,\n",
        "    weight_decay=0.01,\n",
        "    save_steps=50,\n",
        "    seed=0,\n",
        "    gradient_accumulation_steps=64,\n",
        "    logging_dir='./logs',\n",
        "    logging_steps=50\n",
        ")\n",
        "\n",
        "# Initialize the Trainer\n",
        "trainer = Trainer(\n",
        "    model=model,\n",
        "    args=training_args,\n",
        "    train_dataset=tokenized_dataset,\n",
        "    eval_dataset=tokenized_dataset,  # Ideally, use a separate validation set\n",
        "    tokenizer=tokenizer,\n",
        "    data_collator=data_collator,\n",
        ")\n",
        "\n",
        "# Train the model\n",
        "trainer.train()\n",
        "\n",
        "# Save the fine-tuned model and tokenizer\n",
        "model.save_pretrained('./fine-tuned-mbert')\n",
        "tokenizer.save_pretrained('./fine-tuned-mbert')\n"
      ],
      "metadata": {
        "colab": {
          "base_uri": "https://localhost:8080/",
          "height": 384,
          "referenced_widgets": [
            "460cdac357ab4df490b00c111bb3fb2b",
            "92e03971c60c447c96ad925d6934abb7",
            "0451fa23ae304f849298d7e4c9fff06b",
            "5016b31cd9924050aada45ba0ea7119a",
            "bac2db9847534852ae759a67bed0f6da",
            "981bdff2f33a4594a1f37fd31dd203e6",
            "dd28cea15dcc4ff5965209edef929221",
            "f430e5d764384e248a7330c4c3f780ff",
            "5f1995989cab4d8bbde17e5fa6a3ca2f",
            "827b38f480204acabfd1706cf780d3df",
            "7c705a06931646a1a2dddcc7ee69d97e"
          ]
        },
        "id": "YVBrfdXfelNJ",
        "outputId": "9ff23ceb-9624-4efc-9403-e972089b0c2f"
      },
      "execution_count": null,
      "outputs": [
        {
          "output_type": "stream",
          "name": "stderr",
          "text": [
            "/usr/local/lib/python3.10/dist-packages/transformers/tokenization_utils_base.py:1601: FutureWarning: `clean_up_tokenization_spaces` was not set. It will be set to `True` by default. This behavior will be depracted in transformers v4.45, and will be then set to `False` by default. For more details check this issue: https://github.com/huggingface/transformers/issues/31884\n",
            "  warnings.warn(\n",
            "Some weights of the model checkpoint at bert-base-multilingual-cased were not used when initializing BertForMaskedLM: ['bert.pooler.dense.bias', 'bert.pooler.dense.weight', 'cls.seq_relationship.bias', 'cls.seq_relationship.weight']\n",
            "- This IS expected if you are initializing BertForMaskedLM from the checkpoint of a model trained on another task or with another architecture (e.g. initializing a BertForSequenceClassification model from a BertForPreTraining model).\n",
            "- This IS NOT expected if you are initializing BertForMaskedLM from the checkpoint of a model that you expect to be exactly identical (initializing a BertForSequenceClassification model from a BertForSequenceClassification model).\n"
          ]
        },
        {
          "output_type": "display_data",
          "data": {
            "text/plain": [
              "Map:   0%|          | 0/4000 [00:00<?, ? examples/s]"
            ],
            "application/vnd.jupyter.widget-view+json": {
              "version_major": 2,
              "version_minor": 0,
              "model_id": "460cdac357ab4df490b00c111bb3fb2b"
            }
          },
          "metadata": {}
        },
        {
          "output_type": "stream",
          "name": "stderr",
          "text": [
            "/usr/local/lib/python3.10/dist-packages/transformers/training_args.py:1525: FutureWarning: `evaluation_strategy` is deprecated and will be removed in version 4.46 of 🤗 Transformers. Use `eval_strategy` instead\n",
            "  warnings.warn(\n",
            "max_steps is given, it will override any value given in num_train_epochs\n"
          ]
        },
        {
          "output_type": "display_data",
          "data": {
            "text/plain": [
              "<IPython.core.display.HTML object>"
            ],
            "text/html": [
              "\n",
              "    <div>\n",
              "      \n",
              "      <progress value='50' max='50' style='width:300px; height:20px; vertical-align: middle;'></progress>\n",
              "      [50/50 12:25, Epoch 1/2]\n",
              "    </div>\n",
              "    <table border=\"1\" class=\"dataframe\">\n",
              "  <thead>\n",
              " <tr style=\"text-align: left;\">\n",
              "      <th>Step</th>\n",
              "      <th>Training Loss</th>\n",
              "      <th>Validation Loss</th>\n",
              "    </tr>\n",
              "  </thead>\n",
              "  <tbody>\n",
              "    <tr>\n",
              "      <td>50</td>\n",
              "      <td>7.419000</td>\n",
              "      <td>6.922314</td>\n",
              "    </tr>\n",
              "  </tbody>\n",
              "</table><p>"
            ]
          },
          "metadata": {}
        },
        {
          "output_type": "execute_result",
          "data": {
            "text/plain": [
              "('./fine-tuned-mbert/tokenizer_config.json',\n",
              " './fine-tuned-mbert/special_tokens_map.json',\n",
              " './fine-tuned-mbert/vocab.txt',\n",
              " './fine-tuned-mbert/added_tokens.json',\n",
              " './fine-tuned-mbert/tokenizer.json')"
            ]
          },
          "metadata": {},
          "execution_count": 6
        }
      ]
    },
    {
      "cell_type": "code",
      "execution_count": null,
      "metadata": {
        "colab": {
          "base_uri": "https://localhost:8080/"
        },
        "id": "SKMhbBh73dUH",
        "outputId": "afa0f633-80a7-4890-88dd-e629f4deabe9"
      },
      "outputs": [
        {
          "output_type": "stream",
          "name": "stdout",
          "text": [
            "Evaluating:\n",
            "Input: crows_pairs_anonymized.csv\n",
            "Model: mbertu\n",
            "====================================================================================================\n",
            "  0% 0/1508 [00:00<?, ?it/s]/usr/local/lib/python3.10/dist-packages/torch/__init__.py:955: UserWarning: torch.set_default_tensor_type() is deprecated as of PyTorch 2.1, please use torch.set_default_dtype() and torch.set_default_device() as alternatives. (Triggered internally at ../torch/csrc/tensor/python_tensor.cpp:432.)\n",
            "  _C._set_default_tensor_type(t)\n",
            "  0% 1/1508 [00:01<43:04,  1.71s/it]/content/metric.py:283: FutureWarning: The behavior of DataFrame concatenation with empty or all-NA entries is deprecated. In a future version, this will no longer exclude empty or all-NA columns when determining the result dtypes. To retain the old behavior, exclude the relevant entries before the concat operation.\n",
            "  df_score = df_score._append(\n",
            "100% 1508/1508 [09:17<00:00,  2.70it/s]\n",
            "====================================================================================================\n",
            "Total examples: 1508\n",
            "Metric score: 48.21\n",
            "Stereotype score: 49.84\n",
            "Anti-stereotype score: 38.53\n",
            "Num. neutral: 0 0.0\n",
            "====================================================================================================\n",
            "\n"
          ]
        }
      ],
      "source": [
        "#crows\n",
        "!python metric.py --input_file=\"crows_pairs_anonymized.csv\" --lm_model=\"mbertu\" --output_file=\"output.csv\""
      ]
    },
    {
      "cell_type": "code",
      "execution_count": null,
      "metadata": {
        "id": "2V9CODUG3eJ8",
        "colab": {
          "base_uri": "https://localhost:8080/"
        },
        "outputId": "714958cb-460a-4d0a-ea1c-9652c054a1c5"
      },
      "outputs": [
        {
          "output_type": "stream",
          "name": "stdout",
          "text": [
            "2024-09-16 19:31 | seat_utils | INFO > Run number: run00\n",
            "2024-09-16 19:31 | seat_utils | INFO > Config: {'tests': 'seat6,seat6b,seat7,seat7b,seat8,seat8b', 'model_name': 'bert', 'output_dir': './out/', 'cache_encs': True, 'data_dir': './tests', 'debiased': True, 'num_samples': 100000, 'use_parametric': False, 'run_name': 'run00', 'use_ckpt': True, 'ckpt_dir': './fine-tuned-mbert', 'version': 'bert-base-uncased', 'deterministic': False, 'enc_save_dir': './tests'}\n",
            "2024-09-16 19:31 | run_seat | INFO > Seed: 3\n",
            "2024-09-16 19:31 | run_seat | INFO > Found tests: ['seat6', 'seat6b', 'seat7', 'seat7b', 'seat8', 'seat8b', 'weat6', 'weat6b', 'weat7', 'weat7b', 'weat8', 'weat8b', 'word2sents6', 'word2sents6b', 'word2sents7', 'word2sents7b', 'word2sents8', 'word2sents8b']\n",
            "2024-09-16 19:31 | run_seat | INFO > Selected tests: ['seat6', 'seat6b', 'seat7', 'seat7b', 'seat8', 'seat8b']\n",
            "2024-09-16 19:31 | run_seat | INFO > Selected models: ['bert']\n",
            "2024-09-16 19:31 | run_seat | INFO > Start to run the SEAT for bert.\n",
            "/usr/local/lib/python3.10/dist-packages/transformers/tokenization_utils_base.py:1601: FutureWarning: `clean_up_tokenization_spaces` was not set. It will be set to `True` by default. This behavior will be depracted in transformers v4.45, and will be then set to `False` by default. For more details check this issue: https://github.com/huggingface/transformers/issues/31884\n",
            "  warnings.warn(\n",
            "Some weights of BertModel were not initialized from the model checkpoint at ./fine-tuned-mbert and are newly initialized: ['bert.pooler.dense.bias', 'bert.pooler.dense.weight']\n",
            "You should probably TRAIN this model on a down-stream task to be able to use it for predictions and inference.\n",
            "2024-09-16 19:31 | run_seat | INFO > Test: seat6 - Effect Size: -0.057\n",
            "2024-09-16 19:32 | run_seat | INFO > Test: seat6b - Effect Size: -0.082\n",
            "2024-09-16 19:32 | run_seat | INFO > Test: seat7 - Effect Size: 0.537\n",
            "2024-09-16 19:33 | run_seat | INFO > Test: seat7b - Effect Size: -0.161\n",
            "2024-09-16 19:33 | run_seat | INFO > Test: seat8 - Effect Size: -0.224\n",
            "2024-09-16 19:33 | run_seat | INFO > Test: seat8b - Effect Size: 0.047\n",
            "2024-09-16 19:33 | run_seat | INFO > Test: seat6\tp-value: 0.628540000\tdelta_mean: -0.000188748\tstdev: 0.003299162\teffect-size: -0.057\n",
            "2024-09-16 19:33 | run_seat | INFO > Test: seat6b\tp-value: 0.697950000\tdelta_mean: -0.000443248\tstdev: 0.005425185\teffect-size: -0.082\n",
            "2024-09-16 19:33 | run_seat | INFO > Test: seat7\tp-value: 0.000480000\tdelta_mean: 0.001404914\tstdev: 0.002615563\teffect-size: 0.537\n",
            "2024-09-16 19:33 | run_seat | INFO > Test: seat7b\tp-value: 0.831790000\tdelta_mean: -0.000570255\tstdev: 0.003550780\teffect-size: -0.161\n",
            "2024-09-16 19:33 | run_seat | INFO > Test: seat8\tp-value: 0.882110000\tdelta_mean: -0.001056951\tstdev: 0.004709813\teffect-size: -0.224\n",
            "2024-09-16 19:33 | run_seat | INFO > Test: seat8b\tp-value: 0.403610000\tdelta_mean: 0.000174515\tstdev: 0.003724549\teffect-size: 0.047\n",
            "2024-09-16 19:33 | run_seat | INFO > Avg. abs. effect-size: 0.185\n",
            "2024-09-16 19:33 | run_seat | INFO > Save the SEAT results to ./out/bert_seat_run00.csv\n"
          ]
        }
      ],
      "source": [
        "#seat\n",
        "!sh run_seat_debiased.sh"
      ]
    }
  ],
  "metadata": {
    "accelerator": "GPU",
    "colab": {
      "gpuType": "T4",
      "provenance": []
    },
    "kernelspec": {
      "display_name": "Python 3",
      "name": "python3"
    },
    "language_info": {
      "name": "python"
    },
    "widgets": {
      "application/vnd.jupyter.widget-state+json": {
        "460cdac357ab4df490b00c111bb3fb2b": {
          "model_module": "@jupyter-widgets/controls",
          "model_name": "HBoxModel",
          "model_module_version": "1.5.0",
          "state": {
            "_dom_classes": [],
            "_model_module": "@jupyter-widgets/controls",
            "_model_module_version": "1.5.0",
            "_model_name": "HBoxModel",
            "_view_count": null,
            "_view_module": "@jupyter-widgets/controls",
            "_view_module_version": "1.5.0",
            "_view_name": "HBoxView",
            "box_style": "",
            "children": [
              "IPY_MODEL_92e03971c60c447c96ad925d6934abb7",
              "IPY_MODEL_0451fa23ae304f849298d7e4c9fff06b",
              "IPY_MODEL_5016b31cd9924050aada45ba0ea7119a"
            ],
            "layout": "IPY_MODEL_bac2db9847534852ae759a67bed0f6da"
          }
        },
        "92e03971c60c447c96ad925d6934abb7": {
          "model_module": "@jupyter-widgets/controls",
          "model_name": "HTMLModel",
          "model_module_version": "1.5.0",
          "state": {
            "_dom_classes": [],
            "_model_module": "@jupyter-widgets/controls",
            "_model_module_version": "1.5.0",
            "_model_name": "HTMLModel",
            "_view_count": null,
            "_view_module": "@jupyter-widgets/controls",
            "_view_module_version": "1.5.0",
            "_view_name": "HTMLView",
            "description": "",
            "description_tooltip": null,
            "layout": "IPY_MODEL_981bdff2f33a4594a1f37fd31dd203e6",
            "placeholder": "​",
            "style": "IPY_MODEL_dd28cea15dcc4ff5965209edef929221",
            "value": "Map: 100%"
          }
        },
        "0451fa23ae304f849298d7e4c9fff06b": {
          "model_module": "@jupyter-widgets/controls",
          "model_name": "FloatProgressModel",
          "model_module_version": "1.5.0",
          "state": {
            "_dom_classes": [],
            "_model_module": "@jupyter-widgets/controls",
            "_model_module_version": "1.5.0",
            "_model_name": "FloatProgressModel",
            "_view_count": null,
            "_view_module": "@jupyter-widgets/controls",
            "_view_module_version": "1.5.0",
            "_view_name": "ProgressView",
            "bar_style": "success",
            "description": "",
            "description_tooltip": null,
            "layout": "IPY_MODEL_f430e5d764384e248a7330c4c3f780ff",
            "max": 4000,
            "min": 0,
            "orientation": "horizontal",
            "style": "IPY_MODEL_5f1995989cab4d8bbde17e5fa6a3ca2f",
            "value": 4000
          }
        },
        "5016b31cd9924050aada45ba0ea7119a": {
          "model_module": "@jupyter-widgets/controls",
          "model_name": "HTMLModel",
          "model_module_version": "1.5.0",
          "state": {
            "_dom_classes": [],
            "_model_module": "@jupyter-widgets/controls",
            "_model_module_version": "1.5.0",
            "_model_name": "HTMLModel",
            "_view_count": null,
            "_view_module": "@jupyter-widgets/controls",
            "_view_module_version": "1.5.0",
            "_view_name": "HTMLView",
            "description": "",
            "description_tooltip": null,
            "layout": "IPY_MODEL_827b38f480204acabfd1706cf780d3df",
            "placeholder": "​",
            "style": "IPY_MODEL_7c705a06931646a1a2dddcc7ee69d97e",
            "value": " 4000/4000 [00:02&lt;00:00, 1923.30 examples/s]"
          }
        },
        "bac2db9847534852ae759a67bed0f6da": {
          "model_module": "@jupyter-widgets/base",
          "model_name": "LayoutModel",
          "model_module_version": "1.2.0",
          "state": {
            "_model_module": "@jupyter-widgets/base",
            "_model_module_version": "1.2.0",
            "_model_name": "LayoutModel",
            "_view_count": null,
            "_view_module": "@jupyter-widgets/base",
            "_view_module_version": "1.2.0",
            "_view_name": "LayoutView",
            "align_content": null,
            "align_items": null,
            "align_self": null,
            "border": null,
            "bottom": null,
            "display": null,
            "flex": null,
            "flex_flow": null,
            "grid_area": null,
            "grid_auto_columns": null,
            "grid_auto_flow": null,
            "grid_auto_rows": null,
            "grid_column": null,
            "grid_gap": null,
            "grid_row": null,
            "grid_template_areas": null,
            "grid_template_columns": null,
            "grid_template_rows": null,
            "height": null,
            "justify_content": null,
            "justify_items": null,
            "left": null,
            "margin": null,
            "max_height": null,
            "max_width": null,
            "min_height": null,
            "min_width": null,
            "object_fit": null,
            "object_position": null,
            "order": null,
            "overflow": null,
            "overflow_x": null,
            "overflow_y": null,
            "padding": null,
            "right": null,
            "top": null,
            "visibility": null,
            "width": null
          }
        },
        "981bdff2f33a4594a1f37fd31dd203e6": {
          "model_module": "@jupyter-widgets/base",
          "model_name": "LayoutModel",
          "model_module_version": "1.2.0",
          "state": {
            "_model_module": "@jupyter-widgets/base",
            "_model_module_version": "1.2.0",
            "_model_name": "LayoutModel",
            "_view_count": null,
            "_view_module": "@jupyter-widgets/base",
            "_view_module_version": "1.2.0",
            "_view_name": "LayoutView",
            "align_content": null,
            "align_items": null,
            "align_self": null,
            "border": null,
            "bottom": null,
            "display": null,
            "flex": null,
            "flex_flow": null,
            "grid_area": null,
            "grid_auto_columns": null,
            "grid_auto_flow": null,
            "grid_auto_rows": null,
            "grid_column": null,
            "grid_gap": null,
            "grid_row": null,
            "grid_template_areas": null,
            "grid_template_columns": null,
            "grid_template_rows": null,
            "height": null,
            "justify_content": null,
            "justify_items": null,
            "left": null,
            "margin": null,
            "max_height": null,
            "max_width": null,
            "min_height": null,
            "min_width": null,
            "object_fit": null,
            "object_position": null,
            "order": null,
            "overflow": null,
            "overflow_x": null,
            "overflow_y": null,
            "padding": null,
            "right": null,
            "top": null,
            "visibility": null,
            "width": null
          }
        },
        "dd28cea15dcc4ff5965209edef929221": {
          "model_module": "@jupyter-widgets/controls",
          "model_name": "DescriptionStyleModel",
          "model_module_version": "1.5.0",
          "state": {
            "_model_module": "@jupyter-widgets/controls",
            "_model_module_version": "1.5.0",
            "_model_name": "DescriptionStyleModel",
            "_view_count": null,
            "_view_module": "@jupyter-widgets/base",
            "_view_module_version": "1.2.0",
            "_view_name": "StyleView",
            "description_width": ""
          }
        },
        "f430e5d764384e248a7330c4c3f780ff": {
          "model_module": "@jupyter-widgets/base",
          "model_name": "LayoutModel",
          "model_module_version": "1.2.0",
          "state": {
            "_model_module": "@jupyter-widgets/base",
            "_model_module_version": "1.2.0",
            "_model_name": "LayoutModel",
            "_view_count": null,
            "_view_module": "@jupyter-widgets/base",
            "_view_module_version": "1.2.0",
            "_view_name": "LayoutView",
            "align_content": null,
            "align_items": null,
            "align_self": null,
            "border": null,
            "bottom": null,
            "display": null,
            "flex": null,
            "flex_flow": null,
            "grid_area": null,
            "grid_auto_columns": null,
            "grid_auto_flow": null,
            "grid_auto_rows": null,
            "grid_column": null,
            "grid_gap": null,
            "grid_row": null,
            "grid_template_areas": null,
            "grid_template_columns": null,
            "grid_template_rows": null,
            "height": null,
            "justify_content": null,
            "justify_items": null,
            "left": null,
            "margin": null,
            "max_height": null,
            "max_width": null,
            "min_height": null,
            "min_width": null,
            "object_fit": null,
            "object_position": null,
            "order": null,
            "overflow": null,
            "overflow_x": null,
            "overflow_y": null,
            "padding": null,
            "right": null,
            "top": null,
            "visibility": null,
            "width": null
          }
        },
        "5f1995989cab4d8bbde17e5fa6a3ca2f": {
          "model_module": "@jupyter-widgets/controls",
          "model_name": "ProgressStyleModel",
          "model_module_version": "1.5.0",
          "state": {
            "_model_module": "@jupyter-widgets/controls",
            "_model_module_version": "1.5.0",
            "_model_name": "ProgressStyleModel",
            "_view_count": null,
            "_view_module": "@jupyter-widgets/base",
            "_view_module_version": "1.2.0",
            "_view_name": "StyleView",
            "bar_color": null,
            "description_width": ""
          }
        },
        "827b38f480204acabfd1706cf780d3df": {
          "model_module": "@jupyter-widgets/base",
          "model_name": "LayoutModel",
          "model_module_version": "1.2.0",
          "state": {
            "_model_module": "@jupyter-widgets/base",
            "_model_module_version": "1.2.0",
            "_model_name": "LayoutModel",
            "_view_count": null,
            "_view_module": "@jupyter-widgets/base",
            "_view_module_version": "1.2.0",
            "_view_name": "LayoutView",
            "align_content": null,
            "align_items": null,
            "align_self": null,
            "border": null,
            "bottom": null,
            "display": null,
            "flex": null,
            "flex_flow": null,
            "grid_area": null,
            "grid_auto_columns": null,
            "grid_auto_flow": null,
            "grid_auto_rows": null,
            "grid_column": null,
            "grid_gap": null,
            "grid_row": null,
            "grid_template_areas": null,
            "grid_template_columns": null,
            "grid_template_rows": null,
            "height": null,
            "justify_content": null,
            "justify_items": null,
            "left": null,
            "margin": null,
            "max_height": null,
            "max_width": null,
            "min_height": null,
            "min_width": null,
            "object_fit": null,
            "object_position": null,
            "order": null,
            "overflow": null,
            "overflow_x": null,
            "overflow_y": null,
            "padding": null,
            "right": null,
            "top": null,
            "visibility": null,
            "width": null
          }
        },
        "7c705a06931646a1a2dddcc7ee69d97e": {
          "model_module": "@jupyter-widgets/controls",
          "model_name": "DescriptionStyleModel",
          "model_module_version": "1.5.0",
          "state": {
            "_model_module": "@jupyter-widgets/controls",
            "_model_module_version": "1.5.0",
            "_model_name": "DescriptionStyleModel",
            "_view_count": null,
            "_view_module": "@jupyter-widgets/base",
            "_view_module_version": "1.2.0",
            "_view_name": "StyleView",
            "description_width": ""
          }
        }
      }
    }
  },
  "nbformat": 4,
  "nbformat_minor": 0
}